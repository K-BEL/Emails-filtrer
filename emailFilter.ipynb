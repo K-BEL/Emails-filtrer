{
 "cells": [
  {
   "cell_type": "code",
   "execution_count": 1,
   "metadata": {},
   "outputs": [],
   "source": [
    "import pandas as pd"
   ]
  },
  {
   "cell_type": "code",
   "execution_count": 2,
   "metadata": {},
   "outputs": [],
   "source": [
    "# Read the Excel file\n",
    "df = pd.read_csv(r'C:\\Users\\LENOVO\\Desktop\\emails.csv', header=None, names=['A'])"
   ]
  },
  {
   "cell_type": "code",
   "execution_count": 10,
   "metadata": {},
   "outputs": [],
   "source": [
    "# List of domains to extract\n",
    "#domains = ['srilankan']  # Add more domains if needed"
   ]
  },
  {
   "cell_type": "code",
   "execution_count": 7,
   "metadata": {},
   "outputs": [],
   "source": [
    "# List of specific words to extract\n",
    "#specific_words = ['travel', 'concierge']  # Add more specific words if needed"
   ]
  },
  {
   "cell_type": "code",
   "execution_count": 3,
   "metadata": {},
   "outputs": [],
   "source": [
    "specific_words = [\n",
    "    'Travel', 'Journey', 'Trip', 'Vacation', 'Adventure', 'Explore', 'Destination', 'Itinerary',\n",
    "    'Tourism', 'Backpacking', 'Sightseeing', 'Tourist', 'Passport', 'Visa', 'Airport', 'Hotel',\n",
    "    'Reservation', 'Transportation', 'Luggage', 'Souvenir', 'Guidebook', 'Rental', 'Villa',\n",
    "    'Vacation', 'Holiday', 'Home', 'Rental', 'Property', 'Luxury', 'Villa', 'Beach', 'House',\n",
    "    'Retreat', 'Chalet', 'Cottage', 'Condo', 'Airbnb', 'Homestay', 'Self-catering', 'Accommodation',\n",
    "    'Private', 'Exclusive', 'Resort', 'Villa', 'Complex', 'Oceanfront', 'Mountain', 'Retreat',\n",
    "    'Lakeside', 'Concierge', 'Hospitality', 'Assistance', 'Service', 'Personalized', 'Guest',\n",
    "    'Hotel', 'Customer', 'Support', 'Assistance', 'Desk', 'Information', 'Front desk', 'Reservation',\n",
    "    'assistance', 'Event', 'planning', 'Travel', 'arrangement', 'Recommendation', 'Ticket',\n",
    "    'booking', 'Restaurant', 'Transportation', 'VIP', 'Personalized', 'Customized', 'Tailored',\n",
    "    'Individualized', 'Bespoke', 'Exclusive', 'Personal', 'assistant', 'shopper', 'stylist', 'trainer',\n",
    "    'chef', 'driver', 'Personal', 'tour', 'guide', 'Luxury', 'Lifestyle', 'management', 'Special',\n",
    "    'request', 'Personal', 'concierge', 'Unique', 'experience', 'Personalized', 'recommendation',\n",
    "    'Tour', 'Rent', 'Stay', 'Cabin', 'Visit', 'Car', 'Flight', 'Cruise', 'Tour', 'Island',\n",
    "    'Residence', 'Suite', 'Host', 'Local', 'Adventure', 'Relax', 'Service', 'Hospitality', 'Coast',\n",
    "    'Culture', 'Expedition', 'Group', 'Getaway', 'Sun', 'Fun', 'Memories', 'Tourist', 'Attraction',\n",
    "    'Guide', 'Navigator', 'Passenger', 'Pass', 'Boat', 'Explore', 'Discover', 'Scenic', 'Trail',\n",
    "    'Nature', 'Park', 'Beach', 'Hike', 'Mountains', 'Relaxation', 'Wellness', 'Escape', 'Recharge',\n",
    "    'Tropical', 'Palm', 'Tree', 'Sunset', 'Landscape', 'View', 'Adventure', 'Experience', 'Hospitality',\n",
    "    'Chill', 'Hospitality', 'Concierge', 'Relax', 'Service', 'Luxury', 'Assist', 'Travel', 'Convenience',\n",
    "    'Pamper', 'Resort', 'Support', 'VIP', 'Exclusive', 'Private', 'Attention', 'Comfort', 'Destination',\n",
    "    'Elite', 'Indulge', 'Leisure', 'Plush', 'Relaxation', 'Retreat', 'Serenity', 'Wellness'\n",
    "]\n"
   ]
  },
  {
   "cell_type": "code",
   "execution_count": null,
   "metadata": {},
   "outputs": [],
   "source": [
    "# Extract emails with specific domains\n",
    "#filtered_emails = df[df['A'].str.extract(r'@(\\w+)', expand=False).isin(domains)]\n",
    "\n",
    "# Extract emails containing specific words\n",
    "filtered_emails = df[df['A'].str.contains('|'.join(specific_words), case=False)]\n",
    "\n",
    "# Save the filtered emails to a CSV file\n",
    "filtered_emails.to_csv(r'C:\\Users\\LENOVO\\Desktop\\output.csv', index=False)\n",
    "\n",
    "# Print the filtered emails\n",
    "for email in filtered_emails['A']:\n",
    "    print(email)"
   ]
  }
 ],
 "metadata": {
  "kernelspec": {
   "display_name": "Python 3.9.5 64-bit",
   "language": "python",
   "name": "python3"
  },
  "language_info": {
   "codemirror_mode": {
    "name": "ipython",
    "version": 3
   },
   "file_extension": ".py",
   "mimetype": "text/x-python",
   "name": "python",
   "nbconvert_exporter": "python",
   "pygments_lexer": "ipython3",
   "version": "3.9.5"
  },
  "orig_nbformat": 4,
  "vscode": {
   "interpreter": {
    "hash": "e31aef8222fb7c235d2ed8e74ce17e973738f89b37261e7466b7a63a6dfb1214"
   }
  }
 },
 "nbformat": 4,
 "nbformat_minor": 2
}
